{
 "cells": [
  {
   "cell_type": "code",
   "execution_count": 52,
   "metadata": {},
   "outputs": [
    {
     "data": {
      "image/png": "[encoded data removed]",
      "text/plain": [
       "<matplotlib.figure.Figure at 0xb8b04a8>"
      ]
     },
     "metadata": {},
     "output_type": "display_data"
    }
   ],
   "source": [
    "import numpy as np\n",
    "import pandas as pd\n",
    "import matplotlib.pyplot as plt\n",
    "%matplotlib inline\n",
    "\n",
    "#Standard normal distrubtion only needs the number of obsersations, in this case 1,000, because it is already\n",
    "#centered around a mean of 0 and a standard deviaion of 1.\n",
    "distributionStandard_Normal = np.random.standard_normal(1000)\n",
    "\n",
    "plt.hist(distributionStandard_Normal)\n",
    "\n",
    "plt.axvline(distributionStandard_Normal.mean(), color=\"g\", linestyle=\"solid\", linewidth=3)\n",
    "\n",
    "plt.axvline(distributionStandard_Normal.mean()+distributionStandard_Normal.std(), color=\"g\", linestyle=\"dashed\", linewidth=3)\n",
    "\n",
    "plt.axvline(distributionStandard_Normal.mean()-distributionStandard_Normal.std(), color=\"g\", linestyle=\"dashed\", linewidth=3)\n",
    "plt.show()\n",
    "\n",
    "#This graph is standard normal distrubtion, and the historgram indicates that the mean is a good\n",
    "# measure of the central tendency of the graph and that most of the data falls within one\n",
    "# standard deviation of the mean."
   ]
  },
  {
   "cell_type": "code",
   "execution_count": 55,
   "metadata": {},
   "outputs": [
    {
     "data": {
      "image/png": "[encoded data removed]",
      "text/plain": [
       "<matplotlib.figure.Figure at 0xb998d68>"
      ]
     },
     "metadata": {},
     "output_type": "display_data"
    }
   ],
   "source": [
    "#Normal distrubtion around a mean of 35 and standard deviaion of 10 with 1,000 observations.\n",
    "distributionNormal = np.random.normal(35, 10, 1000)\n",
    "\n",
    "plt.hist(distributionNormal)\n",
    "\n",
    "plt.axvline(distributionNormal.mean(), color=\"g\", linestyle=\"solid\", linewidth=3)\n",
    "\n",
    "plt.axvline(distributionNormal.mean()+distributionNormal.std(), color=\"g\", linestyle=\"dashed\", linewidth=3)\n",
    "\n",
    "plt.axvline(distributionNormal.mean()-distributionNormal.std(), color=\"g\", linestyle=\"dashed\", linewidth=3)\n",
    "\n",
    "plt.show()\n",
    "\n",
    "#This graph is normal distrubtion, and the historgram indicates that the mean is a good\n",
    "# measure of the central tendency of the graph and that most of the data falls within one\n",
    "# standard deviation of the mean."
   ]
  },
  {
   "cell_type": "code",
   "execution_count": 58,
   "metadata": {},
   "outputs": [
    {
     "data": {
      "image/png": "[encoded data removed]",
      "text/plain": [
       "<matplotlib.figure.Figure at 0xba94f98>"
      ]
     },
     "metadata": {},
     "output_type": "display_data"
    }
   ],
   "source": [
    "#Binomial distrubtion with p=0.5 probability of getting 80 successes (k) with n repititions of the event and 1,000 observations.\n",
    "distributionBinomial = np.random.binomial(80, .5, 1000)\n",
    "\n",
    "#??-> please explain what is going on with the \"80, .5, 1000\"?  How do I read this?\n",
    "\n",
    "plt.hist(distributionBinomial)\n",
    "\n",
    "plt.axvline(distributionBinomial.mean(), color=\"g\", linestyle=\"solid\", linewidth=3)\n",
    "\n",
    "plt.axvline(distributionBinomial.mean()+distributionBinomial.std(), color=\"g\", linestyle=\"dashed\", linewidth=3)\n",
    "\n",
    "plt.axvline(distributionBinomial.mean()-distributionBinomial.std(), color=\"g\", linestyle=\"dashed\", linewidth=3)\n",
    "\n",
    "plt.show()\n",
    "\n",
    "#This graph is a binomial, and the historgram indicates that the mean is an okay, but slighly distorted\n",
    "# measure of the overall data results. The histogram indicates that the data is fairly centrally located \n",
    "# to the mean and the standard deviation of the mean."
   ]
  },
  {
   "cell_type": "code",
   "execution_count": 60,
   "metadata": {},
   "outputs": [
    {
     "data": {
      "image/png": "[encoded data removed]",
      "text/plain": [
       "<matplotlib.figure.Figure at 0xbb52198>"
      ]
     },
     "metadata": {},
     "output_type": "display_data"
    }
   ],
   "source": [
    "#Gamma distrubtion with a shape of α=10 and a scale of β = 4.  1,000 observations.\n",
    "distributionGamma = np.random.gamma(10, 4, 1000)\n",
    "\n",
    "#What does the shape and scale do to the graph?\n",
    "\n",
    "plt.hist(distributionGamma)\n",
    "\n",
    "plt.axvline(distributionGamma.mean(), color=\"g\", linestyle=\"solid\", linewidth=3)\n",
    "plt.axvline(distributionGamma.mean()+distributionGamma.std(), color=\"g\", linestyle=\"dashed\", linewidth=3)\n",
    "plt.axvline(distributionGamma.mean()-distributionGamma.std(), color=\"g\", linestyle=\"dashed\", linewidth=3)\n",
    "\n",
    "plt.show()\n",
    "\n",
    "#This graph is a gamma distribution, and the historgram indicates that the mean is less of an accurate\n",
    "# measure of the overall data results since the data is skewed left.\n",
    "# [let's discuss]"
   ]
  },
  {
   "cell_type": "code",
   "execution_count": 62,
   "metadata": {},
   "outputs": [
    {
     "data": {
      "image/png": "[encoded data removed]",
      "text/plain": [
       "<matplotlib.figure.Figure at 0xa79b208>"
      ]
     },
     "metadata": {},
     "output_type": "display_data"
    }
   ],
   "source": [
    "#Poisson distrubtion with lamda (λ) of 8--the rate that an event occurs during a time period. 1,000 observations.\n",
    "distributionPoisson = np.random.poisson(8, 1000)\n",
    "\n",
    "#Let's chat more about lambda and how I might apply it with a real world data set...\n",
    "#How would I pull a Poisson distribution right from a data set? \n",
    "\n",
    "plt.hist(distributionPoisson)\n",
    "\n",
    "plt.axvline(distributionPoisson.mean(), color=\"g\", linestyle=\"solid\", linewidth=3)\n",
    "plt.axvline(distributionPoisson.mean()+distributionPoisson.std(), color=\"g\", linestyle=\"dashed\", linewidth=3)\n",
    "plt.axvline(distributionPoisson.mean()-distributionPoisson.std(), color=\"g\", linestyle=\"dashed\", linewidth=3)\n",
    "\n",
    "plt.show()\n",
    "\n",
    "#This graph is a Poisson distribution, and the historgram indicates that the mean is not a great\n",
    "# measure of the overall data results since most of the results are found around one standard\n",
    "# deviation beyond and below the mean."
   ]
  },
  {
   "cell_type": "code",
   "execution_count": 71,
   "metadata": {},
   "outputs": [
    {
     "ename": "AttributeError",
     "evalue": "'Line2D' object has no attribute 'mean'",
     "output_type": "error",
     "traceback": [
      "\u001b[1;31m---------------------------------------------------------------------------\u001b[0m",
      "\u001b[1;31mAttributeError\u001b[0m                            Traceback (most recent call last)",
      "\u001b[1;32m<ipython-input-71-687b0b5e10d0>\u001b[0m in \u001b[0;36m<module>\u001b[1;34m()\u001b[0m\n\u001b[0;32m     10\u001b[0m \u001b[1;33m\u001b[0m\u001b[0m\n\u001b[0;32m     11\u001b[0m \u001b[0mplt\u001b[0m\u001b[1;33m.\u001b[0m\u001b[0mhist\u001b[0m\u001b[1;33m(\u001b[0m\u001b[0mdistributionRating\u001b[0m\u001b[1;33m[\u001b[0m\u001b[0mdistributionRating\u001b[0m\u001b[1;33m[\u001b[0m\u001b[1;34m\"Number of Annual Purchases\"\u001b[0m\u001b[1;33m]\u001b[0m \u001b[1;33m>\u001b[0m \u001b[1;36m9\u001b[0m\u001b[1;33m]\u001b[0m\u001b[1;33m[\u001b[0m\u001b[1;34m\"Customer Satisfaction Rating\"\u001b[0m\u001b[1;33m]\u001b[0m\u001b[1;33m)\u001b[0m\u001b[1;33m\u001b[0m\u001b[0m\n\u001b[1;32m---> 12\u001b[1;33m \u001b[0mplt\u001b[0m\u001b[1;33m.\u001b[0m\u001b[0maxvline\u001b[0m\u001b[1;33m(\u001b[0m\u001b[0mplt\u001b[0m\u001b[1;33m.\u001b[0m\u001b[0maxvline\u001b[0m\u001b[1;33m(\u001b[0m\u001b[0mdistributionRating\u001b[0m\u001b[1;33m[\u001b[0m\u001b[1;34m\"Customer Satisfaction Rating\"\u001b[0m\u001b[1;33m]\u001b[0m\u001b[1;33m.\u001b[0m\u001b[0mmean\u001b[0m\u001b[1;33m(\u001b[0m\u001b[1;33m)\u001b[0m\u001b[1;33m,\u001b[0m \u001b[0mcolor\u001b[0m\u001b[1;33m=\u001b[0m\u001b[1;34m\"g\"\u001b[0m\u001b[1;33m,\u001b[0m \u001b[0mlinestyle\u001b[0m\u001b[1;33m=\u001b[0m\u001b[1;34m\"solid\"\u001b[0m\u001b[1;33m,\u001b[0m \u001b[0mlinewidth\u001b[0m\u001b[1;33m=\u001b[0m\u001b[1;36m3\u001b[0m\u001b[1;33m)\u001b[0m\u001b[1;33m.\u001b[0m\u001b[0mmean\u001b[0m\u001b[1;33m(\u001b[0m\u001b[1;33m)\u001b[0m\u001b[1;33m,\u001b[0m \u001b[0mcolor\u001b[0m\u001b[1;33m=\u001b[0m\u001b[1;34m\"g\"\u001b[0m\u001b[1;33m,\u001b[0m \u001b[0mlinestyle\u001b[0m\u001b[1;33m=\u001b[0m\u001b[1;34m\"solid\"\u001b[0m\u001b[1;33m,\u001b[0m \u001b[0mlinewidth\u001b[0m\u001b[1;33m=\u001b[0m\u001b[1;36m3\u001b[0m\u001b[1;33m)\u001b[0m\u001b[1;33m\u001b[0m\u001b[0m\n\u001b[0m\u001b[0;32m     13\u001b[0m \u001b[1;31m#??How do I make the standard deviationlines appear here?\u001b[0m\u001b[1;33m\u001b[0m\u001b[1;33m\u001b[0m\u001b[0m\n\u001b[0;32m     14\u001b[0m \u001b[1;33m\u001b[0m\u001b[0m\n",
      "\u001b[1;31mAttributeError\u001b[0m: 'Line2D' object has no attribute 'mean'"
     ]
    },
    {
     "data": {
      "image/png": "[encoded data removed]",
      "text/plain": [
       "<matplotlib.figure.Figure at 0xbc36e48>"
      ]
     },
     "metadata": {},
     "output_type": "display_data"
    }
   ],
   "source": [
    "#Looking at a hypothetical survey with customer satisfaction rating with a normal distribution rating.\n",
    "#Want to check it for the condition of annual purchases made.\n",
    "distributionRating = pd.DataFrame()\n",
    "\n",
    "distributionRating[\"Customer Satisfaction Rating\"] = np.random.normal(8, 1, 1000)\n",
    "\n",
    "distributionRating[\"Number of Annual Purchases\"] = np.random.normal(6, 3, 1000)\n",
    "\n",
    "#??How to I change the two numbers sets above to integers?  The \"randint\" funciton is not working.\n",
    "\n",
    "plt.hist(distributionRating[distributionRating[\"Number of Annual Purchases\"] > 9][\"Customer Satisfaction Rating\"])\n",
    "plt.axvline(plt.axvline(distributionRating[\"Customer Satisfaction Rating\"].mean(), color=\"g\", linestyle=\"solid\", linewidth=3).mean(), color=\"g\", linestyle=\"solid\", linewidth=3)\n",
    "#??How do I make the standard deviationlines appear here?\n",
    "#??Why is there an error with the result below?\n",
    "\n",
    "plt.xlabel(\"Satisfaction Rating\")\n",
    "\n",
    "plt.show()\n",
    "\n",
    "# The mean appears to be a good descriptive statistic of the data as the histogram has centrally tendency."
   ]
  },
  {
   "cell_type": "code",
   "execution_count": 73,
   "metadata": {},
   "outputs": [
    {
     "data": {
      "image/png": "[encoded data removed]",
      "text/plain": [
       "<matplotlib.figure.Figure at 0xba18160>"
      ]
     },
     "metadata": {},
     "output_type": "display_data"
    }
   ],
   "source": [
    "#Assume this is a customer satisfaction survey with a mean rating of 7 and standard deviaion of 2.  1,000 observations.\n",
    "distributionLogistic = np.random.logistic(7, 0.5, 1000)\n",
    "\n",
    "plt.hist(distributionLogistic)\n",
    "\n",
    "plt.axvline(distributionLogistic.mean(), color=\"g\", linestyle=\"solid\", linewidth=3)\n",
    "plt.axvline(distributionLogistic.mean()+distributionLogistic.mean(), color=\"g\", linestyle=\"dashed\", linewidth=3)\n",
    "plt.axvline(distributionLogistic.mean()-distributionLogistic.mean(), color=\"g\", linestyle=\"dashed\", linewidth=3)\n",
    "\n",
    "plt.show()\n",
    "\n",
    "#This reveals that from a satisfaction survey with possible choices of 0-10, the average rating was round a 7.\n",
    "#How do we specify that the range of possible scores was 0-10?\n",
    "\n",
    "#??Please describbe what is going on with the standard deviation lines in this graph."
   ]
  },
  {
   "cell_type": "code",
   "execution_count": 74,
   "metadata": {},
   "outputs": [
    {
     "data": {
      "image/png": "[encoded data removed]",
      "text/plain": [
       "<matplotlib.figure.Figure at 0xa7f1ba8>"
      ]
     },
     "metadata": {},
     "output_type": "display_data"
    }
   ],
   "source": [
    "#Two, normally distributed varibles part of assignment.\n",
    "#Normal distrubtion around a mean of 5 and standard deviaion of 0.5 with 1,000 observations.\n",
    "distributionNormal_1 = np.random.normal(5, 0.5, 1000)\n",
    "\n",
    "distributionNormal_2 = np.random.normal(10, 1, 1000)\n",
    "\n",
    "distributionNormal_Combined = distributionNormal_1 + distributionNormal_2\n",
    "\n",
    "plt.hist(distributionNormal_Combined)\n",
    "\n",
    "plt.axvline(distributionNormal_Combined.mean(), color=\"g\", linestyle=\"solid\", linewidth=3)\n",
    "plt.axvline(distributionNormal_Combined.mean()+distributionNormal_Combined.std(), color=\"g\", linestyle=\"dashed\", linewidth=3)\n",
    "plt.axvline(distributionNormal_Combined.mean()-distributionNormal_Combined.std(), color=\"g\", linestyle=\"dashed\", linewidth=3)\n",
    "\n",
    "plt.show()\n",
    "\n",
    "#This graph is normal distrubtion of two combined distribubtions, and the historgram indicates that the mean is a good\n",
    "# measure of the central tendency of the graph and that most of the data falls within one\n",
    "# standard deviation of the mean; nevertheless, the data appears to very slighly skew right."
   ]
  }
 ],
 "metadata": {
  "kernelspec": {
   "display_name": "Python 3",
   "language": "python",
   "name": "python3"
  },
  "language_info": {
   "codemirror_mode": {
    "name": "ipython",
    "version": 3
   },
   "file_extension": ".py",
   "mimetype": "text/x-python",
   "name": "python",
   "nbconvert_exporter": "python",
   "pygments_lexer": "ipython3",
   "version": "3.6.2"
  }
 },
 "nbformat": 4,
 "nbformat_minor": 2
}
