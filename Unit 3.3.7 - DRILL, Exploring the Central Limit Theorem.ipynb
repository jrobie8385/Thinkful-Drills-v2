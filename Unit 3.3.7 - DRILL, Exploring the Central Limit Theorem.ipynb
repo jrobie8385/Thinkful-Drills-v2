{
 "cells": [
  {
   "cell_type": "code",
   "execution_count": 23,
   "metadata": {},
   "outputs": [
    {
     "data": {
      "image/png": "[encoded data removed]",
      "text/plain": [
       "<matplotlib.figure.Figure at 0xc455da0>"
      ]
     },
     "metadata": {},
     "output_type": "display_data"
    },
    {
     "data": {
      "image/png": "[encoded data removed]",
      "text/plain": [
       "<matplotlib.figure.Figure at 0xc3bb358>"
      ]
     },
     "metadata": {},
     "output_type": "display_data"
    },
    {
     "name": "stdout",
     "output_type": "stream",
     "text": [
      "Sample 1 mean: 1.88\n",
      "Sample 2 mean: 4.94\n",
      "Sample 1 standard deviation: 1.1338430226446694\n",
      "Sample 2 standard deviation: 1.3770983988081607\n",
      "Difference in means is 3.0600000000000005\n",
      "T-Value: 17.154234349810583\n",
      "Ttest_indResult(statistic=17.068247671244379, pvalue=2.826017540634174e-40)\n"
     ]
    }
   ],
   "source": [
    "import numpy as np\n",
    "import pandas as pd\n",
    "import scipy\n",
    "import matplotlib.pyplot as plt\n",
    "%matplotlib inline\n",
    "\n",
    "#populations:\n",
    "population1 = np.random.binomial(10, 0.2, 10000)\n",
    "population2 = np.random.binomial(10, 0.5, 10000)\n",
    "\n",
    "plt.hist(population1, alpha=0.5, label=\"Population 1\")\n",
    "plt.hist(population2, alpha=0.5, label=\"Population 2\")\n",
    "plt.legend(loc=\"upper right\")\n",
    "plt.title(\"Population Data\")\n",
    "plt.show()\n",
    "\n",
    "#samples:\n",
    "sample1 = np.random.choice(population1, 100, replace=True)\n",
    "sample2 = np.random.choice(population2, 100, replace=True)\n",
    "\n",
    "plt.hist(sample1, alpha=.5, label=\"Sample 1\")\n",
    "plt.hist(sample2, alpha=.5, label=\"Sample 2\")\n",
    "plt.legend(loc=\"upper right\")\n",
    "plt.show()\n",
    "\n",
    "#calculate the means and SD:\n",
    "\n",
    "print(\"Sample 1 mean: {}\".format(sample1.mean()))\n",
    "print(\"Sample 2 mean: {}\".format(sample2.mean()))\n",
    "print(\"Sample 1 standard deviation: {}\".format(sample1.std()))\n",
    "print(\"Sample 2 standard deviation: {}\".format(sample2.std()))\n",
    "\n",
    "difference_in_means = sample2.mean()-sample1.mean()\n",
    "print(\"Difference in means is {}\".format(difference_in_means))\n",
    "\n",
    "#T-Value:\n",
    "size_of_samples = np.array([len(sample1), len(sample2)])\n",
    "standard_deviations_of_samples = np.array([sample1.std(), sample2.std()])\n",
    "\n",
    "difference_in_standard_errors = (sum(standard_deviations_of_samples**2/size_of_samples))**0.5\n",
    "\n",
    "print(\"T-Value: {}\".format(difference_in_means/difference_in_standard_errors))\n",
    "\n",
    "from scipy.stats import ttest_ind\n",
    "print(ttest_ind(sample2, sample1, equal_var=False))"
   ]
  },
  {
   "cell_type": "code",
   "execution_count": 24,
   "metadata": {},
   "outputs": [
    {
     "data": {
      "image/png": "[encoded data removed]",
      "text/plain": [
       "<matplotlib.figure.Figure at 0xba4a780>"
      ]
     },
     "metadata": {},
     "output_type": "display_data"
    },
    {
     "data": {
      "image/png": "[encoded data removed]",
      "text/plain": [
       "<matplotlib.figure.Figure at 0xc4fc320>"
      ]
     },
     "metadata": {},
     "output_type": "display_data"
    },
    {
     "name": "stdout",
     "output_type": "stream",
     "text": [
      "Sample 1 mean: 2.081\n",
      "Sample 2 mean: 5.078\n",
      "Sample 1 standard deviation: 1.2523733468898164\n",
      "Sample 2 standard deviation: 1.6005986380101664\n",
      "Difference in means is 2.9970000000000003\n",
      "T-Value: 46.632967495083214\n",
      "Ttest_indResult(statistic=46.609645179298354, pvalue=2.5938841659182117e-316)\n"
     ]
    }
   ],
   "source": [
    "#Question 1 (part 1) of Unit 3.3.7 Drill. \n",
    "#  Increasing sample size from 100 to 1000 and then decreasing sample size from 100 tot 20.\n",
    "\n",
    "#Note, I expect the t-value to increase and the p-value to decrease as the sample size is increased \n",
    "# and vice versa for the smaller sample size.\n",
    "\n",
    "#Is this what is happening? How do i interpret this scientific natation provided for the p-value.\n",
    "\n",
    "import numpy as np\n",
    "import pandas as pd\n",
    "import scipy\n",
    "import matplotlib.pyplot as plt\n",
    "%matplotlib inline\n",
    "\n",
    "##populations:\n",
    "population1 = np.random.binomial(10, 0.2, 10000)\n",
    "population2 = np.random.binomial(10, 0.5, 10000)\n",
    "\n",
    "plt.hist(population1, alpha=0.5, label=\"Population 1\")\n",
    "plt.hist(population2, alpha=0.5, label=\"Population 2\")\n",
    "plt.legend(loc=\"upper right\")\n",
    "plt.title(\"Population Data\")\n",
    "plt.show()\n",
    "\n",
    "#samples:\n",
    "sample1 = np.random.choice(population1, 1000, replace=True)\n",
    "sample2 = np.random.choice(population2, 1000, replace=True)\n",
    "\n",
    "plt.hist(sample1, alpha=.5, label=\"Sample 1\")\n",
    "plt.hist(sample2, alpha=.5, label=\"Sample 2\")\n",
    "plt.legend(loc=\"upper right\")\n",
    "plt.show()\n",
    "\n",
    "#calculate the means and SD:\n",
    "\n",
    "print(\"Sample 1 mean: {}\".format(sample1.mean()))\n",
    "print(\"Sample 2 mean: {}\".format(sample2.mean()))\n",
    "print(\"Sample 1 standard deviation: {}\".format(sample1.std()))\n",
    "print(\"Sample 2 standard deviation: {}\".format(sample2.std()))\n",
    "\n",
    "difference_in_means = sample2.mean()-sample1.mean()\n",
    "print(\"Difference in means is {}\".format(difference_in_means))\n",
    "\n",
    "#T-Value:\n",
    "size_of_samples = np.array([len(sample1), len(sample2)])\n",
    "standard_deviations_of_samples = np.array([sample1.std(), sample2.std()])\n",
    "\n",
    "difference_in_standard_errors = (sum(standard_deviations_of_samples**2/size_of_samples))**0.5\n",
    "\n",
    "print(\"T-Value: {}\".format(difference_in_means/difference_in_standard_errors))\n",
    "\n",
    "from scipy.stats import ttest_ind\n",
    "print(ttest_ind(sample2, sample1, equal_var=False))"
   ]
  },
  {
   "cell_type": "code",
   "execution_count": 25,
   "metadata": {},
   "outputs": [
    {
     "data": {
      "image/png": "[encoded data removed]",
      "text/plain": [
       "<matplotlib.figure.Figure at 0xc3a7e48>"
      ]
     },
     "metadata": {},
     "output_type": "display_data"
    },
    {
     "data": {
      "image/png": "[encoded data removed]",
      "text/plain": [
       "<matplotlib.figure.Figure at 0xc399358>"
      ]
     },
     "metadata": {},
     "output_type": "display_data"
    },
    {
     "name": "stdout",
     "output_type": "stream",
     "text": [
      "Sample 1 mean: 1.95\n",
      "Sample 2 mean: 4.75\n",
      "Sample 1 standard deviation: 1.2031209415515964\n",
      "Sample 2 standard deviation: 1.5124483462254175\n",
      "Difference in means is 2.8\n",
      "T-Value: 6.4792945886724835\n",
      "Ttest_indResult(statistic=6.3152351855224289, pvalue=2.5878346507974785e-07)\n"
     ]
    }
   ],
   "source": [
    "#Question 1 (part 2) of Unit 3.3.7 Drill. \n",
    "#  Decreasing sample size from 100 to 20.\n",
    "\n",
    "#Note, I expect the t-value to increase and the p-value to decrease as the sample size is increased \n",
    "# and vice versa for the smaller sample size.\n",
    "\n",
    "import numpy as np\n",
    "import pandas as pd\n",
    "import scipy\n",
    "import matplotlib.pyplot as plt\n",
    "%matplotlib inline\n",
    "\n",
    "#populations:\n",
    "population1 = np.random.binomial(10, 0.2, 10000)\n",
    "population2 = np.random.binomial(10, 0.5, 10000)\n",
    "\n",
    "plt.hist(population1, alpha=0.5, label=\"Population 1\")\n",
    "plt.hist(population2, alpha=0.5, label=\"Population 2\")\n",
    "plt.legend(loc=\"upper right\")\n",
    "plt.title(\"Population Data\")\n",
    "plt.show()\n",
    "\n",
    "#samples:\n",
    "sample1 = np.random.choice(population1, 20, replace=True)\n",
    "sample2 = np.random.choice(population2, 20, replace=True)\n",
    "\n",
    "plt.hist(sample1, alpha=.5, label=\"Sample 1\")\n",
    "plt.hist(sample2, alpha=.5, label=\"Sample 2\")\n",
    "plt.legend(loc=\"upper right\")\n",
    "plt.show()\n",
    "\n",
    "#calculate the means and SD:\n",
    "\n",
    "print(\"Sample 1 mean: {}\".format(sample1.mean()))\n",
    "print(\"Sample 2 mean: {}\".format(sample2.mean()))\n",
    "print(\"Sample 1 standard deviation: {}\".format(sample1.std()))\n",
    "print(\"Sample 2 standard deviation: {}\".format(sample2.std()))\n",
    "\n",
    "difference_in_means = sample2.mean()-sample1.mean()\n",
    "print(\"Difference in means is {}\".format(difference_in_means))\n",
    "\n",
    "#T-Value:\n",
    "size_of_samples = np.array([len(sample1), len(sample2)])\n",
    "standard_deviations_of_samples = np.array([sample1.std(), sample2.std()])\n",
    "\n",
    "difference_in_standard_errors = (sum(standard_deviations_of_samples**2/size_of_samples))**0.5\n",
    "\n",
    "print(\"T-Value: {}\".format(difference_in_means/difference_in_standard_errors))\n",
    "\n",
    "from scipy.stats import ttest_ind\n",
    "print(ttest_ind(sample2, sample1, equal_var=False))"
   ]
  },
  {
   "cell_type": "code",
   "execution_count": 26,
   "metadata": {},
   "outputs": [
    {
     "data": {
      "image/png": "[encoded data removed]",
      "text/plain": [
       "<matplotlib.figure.Figure at 0xc399898>"
      ]
     },
     "metadata": {},
     "output_type": "display_data"
    },
    {
     "data": {
      "image/png": "[encoded data removed]",
      "text/plain": [
       "<matplotlib.figure.Figure at 0xba063c8>"
      ]
     },
     "metadata": {},
     "output_type": "display_data"
    },
    {
     "name": "stdout",
     "output_type": "stream",
     "text": [
      "Sample 1 mean: 2.93\n",
      "Sample 2 mean: 5.02\n",
      "Sample 1 standard deviation: 1.4370455803487932\n",
      "Sample 2 standard deviation: 1.7203488018422308\n",
      "Difference in means is 2.0899999999999994\n",
      "T-Value: 9.323762823412816\n",
      "Ttest_indResult(statistic=9.2770268758575014, pvalue=3.7134494275451495e-17)\n"
     ]
    }
   ],
   "source": [
    "#Question 2 (part 1) - Change the \"p\"  in population 1 to 0.3.\n",
    "\n",
    "#As the \"p\"s for the two populations get closer, I would expect the t-value to increase and the p-value to drop.\n",
    "#The solutions says that the t-value should actually drop and the p-value increase as the populations become similar. Why?\n",
    "# Is it because any difference in the samples must be due to sampling error and not population differences since\n",
    "# the populations are now more similar??\n",
    "\n",
    "import numpy as np\n",
    "import pandas as pd\n",
    "import scipy\n",
    "import matplotlib.pyplot as plt\n",
    "%matplotlib inline\n",
    "\n",
    "#populations:\n",
    "population1 = np.random.binomial(10, 0.3, 10000)\n",
    "population2 = np.random.binomial(10, 0.5, 10000)\n",
    "\n",
    "plt.hist(population1, alpha=0.5, label=\"Population 1\")\n",
    "plt.hist(population2, alpha=0.5, label=\"Population 2\")\n",
    "plt.legend(loc=\"upper right\")\n",
    "plt.title(\"Population Data\")\n",
    "plt.show()\n",
    "\n",
    "#samples:\n",
    "sample1 = np.random.choice(population1, 100, replace=True)\n",
    "sample2 = np.random.choice(population2, 100, replace=True)\n",
    "\n",
    "plt.hist(sample1, alpha=.5, label=\"Sample 1\")\n",
    "plt.hist(sample2, alpha=.5, label=\"Sample 2\")\n",
    "plt.legend(loc=\"upper right\")\n",
    "plt.show()\n",
    "\n",
    "#calculate the means and SD:\n",
    "\n",
    "print(\"Sample 1 mean: {}\".format(sample1.mean()))\n",
    "print(\"Sample 2 mean: {}\".format(sample2.mean()))\n",
    "print(\"Sample 1 standard deviation: {}\".format(sample1.std()))\n",
    "print(\"Sample 2 standard deviation: {}\".format(sample2.std()))\n",
    "\n",
    "difference_in_means = sample2.mean()-sample1.mean()\n",
    "print(\"Difference in means is {}\".format(difference_in_means))\n",
    "\n",
    "#T-Value:\n",
    "size_of_samples = np.array([len(sample1), len(sample2)])\n",
    "standard_deviations_of_samples = np.array([sample1.std(), sample2.std()])\n",
    "\n",
    "difference_in_standard_errors = (sum(standard_deviations_of_samples**2/size_of_samples))**0.5\n",
    "\n",
    "print(\"T-Value: {}\".format(difference_in_means/difference_in_standard_errors))\n",
    "\n",
    "from scipy.stats import ttest_ind\n",
    "print(ttest_ind(sample2, sample1, equal_var=False))"
   ]
  },
  {
   "cell_type": "code",
   "execution_count": 29,
   "metadata": {},
   "outputs": [
    {
     "data": {
      "image/png": "[encoded data removed]",
      "text/plain": [
       "<matplotlib.figure.Figure at 0xb8dd860>"
      ]
     },
     "metadata": {},
     "output_type": "display_data"
    },
    {
     "data": {
      "image/png": "[encoded data removed]",
      "text/plain": [
       "<matplotlib.figure.Figure at 0xa80fac8>"
      ]
     },
     "metadata": {},
     "output_type": "display_data"
    },
    {
     "name": "stdout",
     "output_type": "stream",
     "text": [
      "Sample 1 mean: 3.91\n",
      "Sample 2 mean: 4.86\n",
      "Sample 1 standard deviation: 1.625392260348252\n",
      "Sample 2 standard deviation: 1.6063623501564026\n",
      "Difference in means is 0.9500000000000002\n",
      "T-Value: 4.15712130051898\n",
      "Ttest_indResult(statistic=4.1362834685447192, pvalue=5.2145501436991406e-05)\n"
     ]
    }
   ],
   "source": [
    "#Question 2 (part 2) - Change the \"p\"  in population 1 to 0.4.\n",
    "\n",
    "#Relative to question 2 (part 1), why does the t-value drop? What is happenning to the p-value?\n",
    "\n",
    "import numpy as np\n",
    "import pandas as pd\n",
    "import scipy\n",
    "import matplotlib.pyplot as plt\n",
    "%matplotlib inline\n",
    "\n",
    "#populations:\n",
    "population1 = np.random.binomial(10, 0.4, 10000)\n",
    "population2 = np.random.binomial(10, 0.5, 10000)\n",
    "\n",
    "plt.hist(population1, alpha=0.5, label=\"Population 1\")\n",
    "plt.hist(population2, alpha=0.5, label=\"Population 2\")\n",
    "plt.legend(loc=\"upper right\")\n",
    "plt.title(\"Population Data\")\n",
    "plt.show()\n",
    "\n",
    "#samples:\n",
    "sample1 = np.random.choice(population1, 100, replace=True)\n",
    "sample2 = np.random.choice(population2, 100, replace=True)\n",
    "\n",
    "plt.hist(sample1, alpha=.5, label=\"Sample 1\")\n",
    "plt.hist(sample2, alpha=.5, label=\"Sample 2\")\n",
    "plt.legend(loc=\"upper right\")\n",
    "plt.show()\n",
    "\n",
    "#calculate the means and SD:\n",
    "\n",
    "print(\"Sample 1 mean: {}\".format(sample1.mean()))\n",
    "print(\"Sample 2 mean: {}\".format(sample2.mean()))\n",
    "print(\"Sample 1 standard deviation: {}\".format(sample1.std()))\n",
    "print(\"Sample 2 standard deviation: {}\".format(sample2.std()))\n",
    "\n",
    "difference_in_means = sample2.mean()-sample1.mean()\n",
    "print(\"Difference in means is {}\".format(difference_in_means))\n",
    "\n",
    "#T-Value:\n",
    "size_of_samples = np.array([len(sample1), len(sample2)])\n",
    "standard_deviations_of_samples = np.array([sample1.std(), sample2.std()])\n",
    "\n",
    "difference_in_standard_errors = (sum(standard_deviations_of_samples**2/size_of_samples))**0.5\n",
    "\n",
    "print(\"T-Value: {}\".format(difference_in_means/difference_in_standard_errors))\n",
    "\n",
    "from scipy.stats import ttest_ind\n",
    "print(ttest_ind(sample2, sample1, equal_var=False))"
   ]
  },
  {
   "cell_type": "code",
   "execution_count": 28,
   "metadata": {},
   "outputs": [
    {
     "data": {
      "image/png": "[encoded data removed]",
      "text/plain": [
       "<matplotlib.figure.Figure at 0xc6760b8>"
      ]
     },
     "metadata": {},
     "output_type": "display_data"
    },
    {
     "data": {
      "image/png": "[encoded data removed]",
      "text/plain": [
       "<matplotlib.figure.Figure at 0xc6765f8>"
      ]
     },
     "metadata": {},
     "output_type": "display_data"
    },
    {
     "name": "stdout",
     "output_type": "stream",
     "text": [
      "Sample 1 mean: 29.782790492936577\n",
      "Sample 2 mean: 80.16940393721718\n",
      "Sample 1 standard deviation: 4.954931437810782\n",
      "Sample 2 standard deviation: 9.981485888880043\n",
      "Difference in means is 50.386613444280606\n",
      "T-Value: 45.21545268786872\n",
      "Ttest_indResult(statistic=44.988807387518115, pvalue=4.5313157470791709e-87)\n"
     ]
    }
   ],
   "source": [
    "#Question 3 - Change to one of my choice--do normal distribution.\n",
    "\n",
    "#How do I interpret the t-value and p-values here?\n",
    "#This looks much different from the other examples. What is going on?\n",
    "\n",
    "import numpy as np\n",
    "import pandas as pd\n",
    "import scipy\n",
    "import matplotlib.pyplot as plt\n",
    "%matplotlib inline\n",
    "\n",
    "#populations:\n",
    "population1 = np.random.normal(30, 5, 1000)\n",
    "population2 = np.random.normal(80, 10, 1000)\n",
    "\n",
    "plt.hist(population1, alpha=0.5, label=\"Population 1\")\n",
    "plt.hist(population2, alpha=0.5, label=\"Population 2\")\n",
    "plt.legend(loc=\"upper right\")\n",
    "plt.title(\"Population Data\")\n",
    "plt.show()\n",
    "\n",
    "#samples:\n",
    "sample1 = np.random.choice(population1, 100, replace=True)\n",
    "sample2 = np.random.choice(population2, 100, replace=True)\n",
    "\n",
    "plt.hist(sample1, alpha=.5, label=\"Sample 1\")\n",
    "plt.hist(sample2, alpha=.5, label=\"Sample 2\")\n",
    "plt.legend(loc=\"upper right\")\n",
    "plt.show()\n",
    "\n",
    "#calculate the means and SD:\n",
    "\n",
    "print(\"Sample 1 mean: {}\".format(sample1.mean()))\n",
    "print(\"Sample 2 mean: {}\".format(sample2.mean()))\n",
    "print(\"Sample 1 standard deviation: {}\".format(sample1.std()))\n",
    "print(\"Sample 2 standard deviation: {}\".format(sample2.std()))\n",
    "\n",
    "difference_in_means = sample2.mean()-sample1.mean()\n",
    "print(\"Difference in means is {}\".format(difference_in_means))\n",
    "\n",
    "#T-Value:\n",
    "size_of_samples = np.array([len(sample1), len(sample2)])\n",
    "standard_deviations_of_samples = np.array([sample1.std(), sample2.std()])\n",
    "\n",
    "difference_in_standard_errors = (sum(standard_deviations_of_samples**2/size_of_samples))**0.5\n",
    "\n",
    "print(\"T-Value: {}\".format(difference_in_means/difference_in_standard_errors))\n",
    "\n",
    "from scipy.stats import ttest_ind\n",
    "print(ttest_ind(sample2, sample1, equal_var=False))"
   ]
  }
 ],
 "metadata": {
  "kernelspec": {
   "display_name": "Python 3",
   "language": "python",
   "name": "python3"
  },
  "language_info": {
   "codemirror_mode": {
    "name": "ipython",
    "version": 3
   },
   "file_extension": ".py",
   "mimetype": "text/x-python",
   "name": "python",
   "nbconvert_exporter": "python",
   "pygments_lexer": "ipython3",
   "version": "3.6.2"
  }
 },
 "nbformat": 4,
 "nbformat_minor": 2
}
